{
 "cells": [
  {
   "cell_type": "markdown",
   "metadata": {},
   "source": [
    "<h1 align=\"center\">Differrence b/w Git and Github</h1>\n"
   ]
  },
  {
   "cell_type": "markdown",
   "metadata": {},
   "source": [
    "✅ 1. Git – The Tool (installed on your computer)\n",
    "\n",
    "Git is a version control system.\n",
    "\n",
    "It helps you track changes in your code.\n",
    "\n",
    "You can work offline.\n",
    "\n",
    "Git is used through the command line.\n",
    "\n",
    "🔹 Example:\n",
    "\n",
    "- git init\n",
    "- git add .\n",
    "- git commit -m \"First commit\"\n"
   ]
  },
  {
   "cell_type": "markdown",
   "metadata": {},
   "source": [
    "Think of Git as a diary that saves every change in your project."
   ]
  },
  {
   "cell_type": "markdown",
   "metadata": {},
   "source": [
    "✅ 2. GitHub – The Cloud Platform (online)\n",
    "\n",
    "GitHub is a website that hosts your Git repositories.\n",
    "\n",
    "It allows you to share your code online.\n",
    "\n",
    "You can collaborate with others.\n",
    "\n",
    "Github is used through the command line\n",
    "\n",
    "It uses Git under the hood, but provides a user interface.\n",
    "\n",
    "🔹 Example:\n",
    "\n",
    "- git pull origin main\n",
    "- git push origin main"
   ]
  },
  {
   "cell_type": "markdown",
   "metadata": {},
   "source": [
    "Think of GitHub as Google Drive for your Git projects."
   ]
  },
  {
   "cell_type": "markdown",
   "metadata": {},
   "source": [
    "How to Set Up Git\n",
    "Install Git (if not already installed):\n",
    "\n",
    "For Windows: https://git-scm.com/download/win\n",
    "\n",
    "For Mac: https://git-scm.com/download/mac\n",
    "\n",
    "For Linux: Use terminal:\n",
    "\n",
    "- sudo apt install git\n"
   ]
  },
  {
   "cell_type": "markdown",
   "metadata": {},
   "source": [
    "# Check Git installation:\n",
    "\n",
    "Open Window powershell or Command prompt and write this command:\n",
    "\n",
    "- git --version\n"
   ]
  },
  {
   "cell_type": "markdown",
   "metadata": {},
   "source": [
    "If version cannot bhi show like this  <img src =\"C:\\Users\\SAIF UR REHMAN\\Pictures\\Screenshots\\Screenshot 2025-06-03 221222.png\">\n",
    "\n"
   ]
  },
  {
   "cell_type": "markdown",
   "metadata": {},
   "source": [
    "Step-by-Step:\n",
    "\n",
    "Initialize a Git Repository\n",
    "\n",
    "Let’s say you have a folder called python-project.\n",
    "\n",
    "🔹 Step 1: Open Terminal or Git Bash\n",
    "\n",
    "🔹 Step 2: Navigate to your folder:\n",
    "\n",
    "Run this command:\n",
    "\n",
    "- cd path/to/python-project\n",
    "\n",
    "Step 3: Initialize Git\n",
    "\n",
    "Run this command:\n",
    "\n",
    "- git init\n",
    "\n",
    "\n",
    "This creates a .git folder to track changes."
   ]
  },
  {
   "cell_type": "markdown",
   "metadata": {},
   "source": [
    "# Basic Git Commands:\n",
    "\n",
    "| Command                   | Purpose                                    |\n",
    "| ------------------------- | ------------------------------------------ |\n",
    "| `git init`                | Start tracking a project                   |\n",
    "| `git status`              | Check which files are changed or untracked |\n",
    "| `git add filename`        | Stage a file to commit                     |\n",
    "| `git add .`               | Stage **all** changed files                |\n",
    "| `git commit -m \"Message\"` | Save your staged changes with a message    |\n",
    "| `git log`                 | Show commit history                        |\n"
   ]
  },
  {
   "cell_type": "markdown",
   "metadata": {},
   "source": [
    "Push to GitHub\n",
    "\n",
    "Step 1: Create a new repository on GitHub\n",
    "\n",
    "➡️ Go to https://github.com\n",
    "\n",
    "➡️ Click on New repository\n",
    "\n",
    "➡️ Name it (e.g., python-project)\n",
    "\n",
    "➡️ Don’t check any boxes (like README)"
   ]
  },
  {
   "cell_type": "markdown",
   "metadata": {},
   "source": [
    "If your project is already in Github then do this command"
   ]
  },
  {
   "cell_type": "markdown",
   "metadata": {},
   "source": [
    "- git remote add origin https://github.com/yourusername/python-project.git\n"
   ]
  },
  {
   "cell_type": "markdown",
   "metadata": {},
   "source": [
    "# Create a README File\n",
    "\n",
    "A README.md file describes your project."
   ]
  },
  {
   "cell_type": "markdown",
   "metadata": {},
   "source": [
    "Example:\n",
    "\n",
    "My First GitHub Project\n",
    "\n",
    "This is a simple Python project created during my 60-day learning challenge.\n",
    "\n",
    "Save this as README.md in your project folder.\n",
    "\n",
    "\n",
    "This readme file is also beneficial for us because we can write everything here that we did in the code.\n",
    "\n",
    "The extension of Readme file is .md\n"
   ]
  },
  {
   "cell_type": "markdown",
   "metadata": {},
   "source": [
    "# Push Code to GitHub\n",
    "\n",
    "Create a new repo on GitHub\n",
    "\n",
    "In your terminal:"
   ]
  },
  {
   "cell_type": "markdown",
   "metadata": {},
   "source": [
    "- git init\n",
    "- git add .\n",
    "- git commit -m \"Initial commit\"\n",
    "- git branch -M main\n",
    "- git remote add origin https://github.com/your-username/repo-name.git\n",
    "- git push -u origin main\n"
   ]
  },
  {
   "cell_type": "markdown",
   "metadata": {},
   "source": [
    "✅ Task for Today:\n",
    "\n",
    "Create a folder called day9-git-practice\n",
    "\n",
    "Add a simple Python file (hello.py)\n",
    "\n",
    "Create a README.md\n",
    "\n",
    "Initialize Git, make your first commit, and push it to a GitHub repo"
   ]
  }
 ],
 "metadata": {
  "language_info": {
   "name": "python"
  }
 },
 "nbformat": 4,
 "nbformat_minor": 2
}
